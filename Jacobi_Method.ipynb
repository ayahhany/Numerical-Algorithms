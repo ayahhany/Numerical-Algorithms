{
  "nbformat": 4,
  "nbformat_minor": 0,
  "metadata": {
    "colab": {
      "name": "Jacobi Method.ipynb",
      "provenance": []
    },
    "kernelspec": {
      "name": "python3",
      "display_name": "Python 3"
    },
    "language_info": {
      "name": "python"
    }
  },
  "cells": [
    {
      "cell_type": "markdown",
      "source": [
        "### Apply the Jacobi method to solve\n",
        "- 𝟓𝒙𝟏−𝟐𝒙𝟐+𝟑𝒙𝟑=−𝟏, −𝟑𝒙𝟏+𝟗𝒙𝟐+𝒙𝟑=𝟐, 𝟐𝒙𝟏−𝒙𝟐−𝟕𝒙𝟑=𝟑\n",
        "- Solve once without vectorization then use vectorize implementation.\n",
        "- Check for convergance.\n",
        "- Use different tolerence and see the difference between the two methods. e.g. tol: 0.01,0.001,0.0001 ... etc."
      ],
      "metadata": {
        "id": "KlMQv0FCvyyz"
      }
    },
    {
      "cell_type": "code",
      "source": [
        "import numpy as np\n",
        "from scipy.linalg import lu"
      ],
      "metadata": {
        "id": "uyLYzECRV3K3"
      },
      "execution_count": 3,
      "outputs": []
    },
    {
      "cell_type": "code",
      "execution_count": 49,
      "metadata": {
        "id": "NIw1X_3kvtMe"
      },
      "outputs": [],
      "source": [
        "#sufficient but not necessary\n",
        "def dominant_matrix(A):\n",
        "  diagonal = []\n",
        "  off_diagonal = []\n",
        "  for i in range(A.shape[0]):\n",
        "    diagonal.append(int(abs(A[i][i])))\n",
        "    off_diagonal.append(int(sum(abs(A[i])) - abs(A[i][i])))\n",
        "  counter = 0\n",
        "  for i in range(len(diagonal)):\n",
        "    if (diagonal[i] <=  off_diagonal[i]):\n",
        "      counter +=1\n",
        "  if counter == 0:\n",
        "    state = \"matrix is strictly diagonally dominant\"\n",
        "  elif counter == len(diagonal):\n",
        "    state = \"matrix is not  dominant\"\n",
        "  else:\n",
        "    state = \"matrix is diagonally dominant\"\n",
        "  return diagonal, off_diagonal, state"
      ]
    },
    {
      "cell_type": "code",
      "source": [
        "#Not vectorized\n",
        "def jacobi(A,y, epsilon):\n",
        "  # 1. get values of x\n",
        "  for i in range(A.shape[0]):\n",
        "    y[i] = y[i] / A[i][i]\n",
        "    A[i] = A[i] / A[i][i]\n",
        "    A[i][i] = 0\n",
        "  #2. assume x = [0,0,0]\n",
        "  x = np.zeros(A.shape[1]).reshape(-1,1)\n",
        "  #3. get values of x till convergence\n",
        "  print(f\"Iteration results with epsilon = {epsilon}\")\n",
        "  print(\"k \\tx1 \\tx2 \\tx3\")\n",
        "  for k in range(20):\n",
        "    x_prev = x\n",
        "    x = (np.dot(A*-1 ,x_prev)) + y\n",
        "    print(f\"{k+1} \\t{round(x[0][0],4 )} \\t{round(x[1][0],4 )} \\t{round(x[2][0],4 )}\")\n",
        "    if np.linalg.norm(x-x_prev) < epsilon:\n",
        "      print(\"Converged!\")\n",
        "      break"
      ],
      "metadata": {
        "id": "nPxCgkZVUZIf"
      },
      "execution_count": 130,
      "outputs": []
    },
    {
      "cell_type": "code",
      "source": [
        "A = np.array([[5, -2, 3],\n",
        "     [-3, 9, 1],\n",
        "     [2, -1, -7]]).astype('float64')\n",
        "y = np.array([[-1], [2], [3]]).astype('float64')\n",
        "diagonal, off_diagonal, state = dominant_matrix(A)\n",
        "print(f\"diagonal: {diagonal}\")\n",
        "print(f\"off diagonal: {off_diagonal}\")\n",
        "print(state)"
      ],
      "metadata": {
        "colab": {
          "base_uri": "https://localhost:8080/"
        },
        "id": "X28DHqEHWxqX",
        "outputId": "c0a9fac8-75a2-46af-d0a1-986f355dc446"
      },
      "execution_count": 131,
      "outputs": [
        {
          "output_type": "stream",
          "name": "stdout",
          "text": [
            "diagonal: [5, 9, 7]\n",
            "off diagonal: [5, 4, 3]\n",
            "matrix is diagonally dominant\n"
          ]
        }
      ]
    },
    {
      "cell_type": "code",
      "source": [
        "jacobi(A,y, 0.00001)"
      ],
      "metadata": {
        "colab": {
          "base_uri": "https://localhost:8080/"
        },
        "id": "F5O1pDNoW1gl",
        "outputId": "c1694238-9950-44d4-975c-cb0d0506fc96"
      },
      "execution_count": 132,
      "outputs": [
        {
          "output_type": "stream",
          "name": "stdout",
          "text": [
            "Iteration results with epsilon = 1e-05\n",
            "k \tx1 \tx2 \tx3\n",
            "1 \t-0.2 \t0.2222 \t-0.4286\n",
            "2 \t0.146 \t0.2032 \t-0.5175\n",
            "3 \t0.1917 \t0.3284 \t-0.4159\n",
            "4 \t0.1809 \t0.3323 \t-0.4207\n",
            "5 \t0.1854 \t0.3293 \t-0.4244\n",
            "6 \t0.1863 \t0.3312 \t-0.4226\n",
            "7 \t0.1861 \t0.3313 \t-0.4226\n",
            "8 \t0.1861 \t0.3312 \t-0.4227\n",
            "9 \t0.1861 \t0.3312 \t-0.4227\n",
            "10 \t0.1861 \t0.3312 \t-0.4227\n",
            "Converged!\n"
          ]
        }
      ]
    },
    {
      "cell_type": "code",
      "source": [
        "# vectorized\n",
        "def jacobi_vectorized(A,y, epsilon):\n",
        "  U = np.triu(A,1)\n",
        "  L = np.tril(A,-1)\n",
        "  D = np.diag(np.diag(A))\n",
        "\n",
        "  T = np.linalg.inv((D)) @ (-L - U)\n",
        "  c = np.linalg.inv((D)) @ y\n",
        "  x = np.zeros(A.shape[1]).reshape(-1,1)\n",
        "\n",
        "  # spectral radius  \n",
        "  print(\"spectral radius:\", np.max(np.abs((np.linalg.eig(T)[0]))))\n",
        "\n",
        "  print(f\"Iteration results with epsilon = {epsilon}\")\n",
        "  print(\"k \\tx1 \\tx2 \\tx3\")\n",
        "  for k in range(20):\n",
        "    x_prev = x\n",
        "    x = T @ x_prev + c\n",
        "\n",
        "    print(f\"{k+1} \\t{round(x[0][0],4 )} \\t{round(x[1][0],4 )} \\t{round(x[2][0],4 )}\")\n",
        "    if np.linalg.norm(x-x_prev) < epsilon:\n",
        "      print(\"Converged!\")\n",
        "      break"
      ],
      "metadata": {
        "id": "scA5EMzpbNyQ"
      },
      "execution_count": 200,
      "outputs": []
    },
    {
      "cell_type": "code",
      "source": [
        "A = np.array([[5, -2, 3],\n",
        "     [-3, 9, 1],\n",
        "     [2, -1, -7]]).astype('float64')\n",
        "y = np.array([[-1], [2], [3]]).astype('float64')\n",
        "jacobi_vectorized(A,y ,0.00001)"
      ],
      "metadata": {
        "colab": {
          "base_uri": "https://localhost:8080/"
        },
        "id": "hbahHkGBcb8Z",
        "outputId": "09659c9f-be0b-42f7-b280-7e2b9a96b7a0"
      },
      "execution_count": 202,
      "outputs": [
        {
          "output_type": "stream",
          "name": "stdout",
          "text": [
            "spectral radius: 0.26739980828320875\n",
            "Iteration results with epsilon = 1e-05\n",
            "k \tx1 \tx2 \tx3\n",
            "1 \t-0.2 \t0.2222 \t-0.4286\n",
            "2 \t0.146 \t0.2032 \t-0.5175\n",
            "3 \t0.1917 \t0.3284 \t-0.4159\n",
            "4 \t0.1809 \t0.3323 \t-0.4207\n",
            "5 \t0.1854 \t0.3293 \t-0.4244\n",
            "6 \t0.1863 \t0.3312 \t-0.4226\n",
            "7 \t0.1861 \t0.3313 \t-0.4226\n",
            "8 \t0.1861 \t0.3312 \t-0.4227\n",
            "9 \t0.1861 \t0.3312 \t-0.4227\n",
            "10 \t0.1861 \t0.3312 \t-0.4227\n",
            "Converged!\n"
          ]
        }
      ]
    },
    {
      "cell_type": "code",
      "source": [
        ""
      ],
      "metadata": {
        "id": "jKuBaa7gtie-"
      },
      "execution_count": null,
      "outputs": []
    }
  ]
}