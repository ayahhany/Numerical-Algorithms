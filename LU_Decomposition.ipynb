{
 "cells": [
  {
   "cell_type": "markdown",
   "metadata": {
    "id": "iO7n-gcRAl7H"
   },
   "source": [
    "### Solve the following system of equations using LU Decomposition method:\n",
    "#### Find L and U by hand.\n",
    "#### Confirm that A=LU then solve.\n",
    "- Ex1. 𝟐𝒙+𝟓𝒚=𝟐𝟏, 𝒙+𝟐𝒚=𝟖.\n",
    "- Ex2. 𝒙𝟏+𝒙𝟐+𝒙𝟑=𝟏, 𝟒𝒙𝟏+𝟑𝒙𝟐−𝒙𝟑=𝟔, 𝟑𝒙𝟏+𝟓𝒙_𝟐+𝟑𝒙𝟑=𝟒\n",
    "\n",
    "#### Use scipy.linalg.lu() to slove the previous system using LU decomposition and compare the results.\n",
    "\n",
    "\n",
    "### Note (when using scipy):\n",
    "- In the second system of equations We can see the <b>L and U</b> we get are different from the ones we got by hand. \n",
    "- You will also see there is a permutation matrix <b>P</b> that returned by the <b>lu function</b>. \n",
    "- This permutation matrix record how do we change the order of the equations for easier calculation purposes (for example, if first element in first row is zero, it can not be the pivot equation, since you can not turn the first elements in other rows to zero. Therefore, we need to switch the order of the equations to get a new pivot equation). \n",
    "- If you multiply <b>P with A</b>, you will see that this permutation matrix effect.\n",
    "- You will need to arrange the ouput based on the new matrix <b>A</b> achieved by <b>LU</b> multiplication in order to correctly solve the system of equations.\n",
    "\n"
   ]
  },
  {
   "cell_type": "code",
   "execution_count": 2,
   "metadata": {
    "id": "kYOxdkto3tCp"
   },
   "outputs": [],
   "source": [
    "import numpy as np\n",
    "from scipy.linalg import lu"
   ]
  },
  {
   "cell_type": "markdown",
   "metadata": {
    "id": "QeiAQmzNn_I0"
   },
   "source": [
    "LU decompostion:\n",
    "* Ax = y\n",
    "* (LU)x = y\n",
    "* LM = y; then  M = (L^-1)y\n",
    "* Ux = M; then x = (U^-1)M\n",
    "\n",
    "Steps:\n",
    "\n",
    "1. get M\n",
    "2. get x\n",
    "\n",
    "Checks:\n",
    "\n",
    "1. A is already equal to LU\n",
    "2. the order of the permuatation matrix P"
   ]
  },
  {
   "cell_type": "code",
   "execution_count": 23,
   "metadata": {
    "id": "NAePDyZEngyB"
   },
   "outputs": [],
   "source": [
    "def lu_decomposition(A,y, dim):\n",
    "  P, L , U = lu(A)\n",
    "  if not(P == np.identity(dim)).all():\n",
    "    A = np.dot(P,A) # arrange A rows based on P rows\n",
    "    y = np.dot(P,y)\n",
    "    A = np.dot(P,A) # arrange A rows based on LU rows\n",
    "    y = np.dot(P,y)\n",
    "  if(A == np.dot(L, U)).all():\n",
    "    #1. get M : M = (L^-1)y\n",
    "    M = np.dot(np.linalg.inv(L), y)\n",
    "\n",
    "    #2. get x : x = (U^-1)M\n",
    "    x = np.dot(np.linalg.inv(U), M)\n",
    "  else:\n",
    "    print(\"LU is not equal A\")\n",
    "  return P, L, U, M , x"
   ]
  },
  {
   "cell_type": "code",
   "execution_count": 28,
   "metadata": {
    "id": "ORoxxMZsnZQu"
   },
   "outputs": [],
   "source": [
    "# Ex1\n",
    "A = [[2,5],\n",
    "     [1,2]]\n",
    "y = [[21],\n",
    "     [8]]\n",
    "P, L, U, M , x = lu_decomposition(A,y, 2)"
   ]
  },
  {
   "cell_type": "code",
   "execution_count": 29,
   "metadata": {
    "colab": {
     "base_uri": "https://localhost:8080/"
    },
    "id": "jhxBXM5StKn9",
    "outputId": "54ef05bb-f570-4e84-e214-f580a86053c6"
   },
   "outputs": [
    {
     "name": "stdout",
     "output_type": "stream",
     "text": [
      "P: [[1. 0.]\n",
      " [0. 1.]] \n",
      "\n",
      "L: [[1.  0. ]\n",
      " [0.5 1. ]] \n",
      "\n",
      "U:[[ 2.   5. ]\n",
      " [ 0.  -0.5]] \n",
      "\n",
      "M:[[21. ]\n",
      " [-2.5]] \n",
      "\n",
      "x:[[-2.]\n",
      " [ 5.]]\n"
     ]
    }
   ],
   "source": [
    "print(f\"P: {P} \\n\\nL: {L} \\n\\nU:{U} \\n\\nM:{M} \\n\\nx:{x}\")"
   ]
  },
  {
   "cell_type": "code",
   "execution_count": 32,
   "metadata": {
    "colab": {
     "base_uri": "https://localhost:8080/"
    },
    "id": "dwBGNloRuBwX",
    "outputId": "3a2a33e5-251a-4ebb-bf91-5d29e1af02bc"
   },
   "outputs": [
    {
     "name": "stdout",
     "output_type": "stream",
     "text": [
      "x:[[-2.]\n",
      " [ 5.]]\n"
     ]
    }
   ],
   "source": [
    "# Ex1 using np.linalg.solve()\n",
    "x = np.linalg.solve(A, y)\n",
    "print(f\"x:{x}\")"
   ]
  },
  {
   "cell_type": "code",
   "execution_count": 33,
   "metadata": {
    "colab": {
     "base_uri": "https://localhost:8080/"
    },
    "id": "97FHH2OOuZMc",
    "outputId": "19d2acef-3127-48eb-93e5-108565418149"
   },
   "outputs": [
    {
     "data": {
      "text/plain": [
       "True"
      ]
     },
     "execution_count": 33,
     "metadata": {},
     "output_type": "execute_result"
    }
   ],
   "source": [
    "# to check the soution is correct\n",
    "np.allclose(np.dot(A, x), y)"
   ]
  },
  {
   "cell_type": "code",
   "execution_count": 34,
   "metadata": {
    "id": "L5xP2IQIpb7e"
   },
   "outputs": [],
   "source": [
    "# Ex2\n",
    "A = [[ 1,  1,  1],\n",
    "     [ 4,  3, -1],\n",
    "     [ 3,  5,  3]]\n",
    "y = [[1],\n",
    "     [6],\n",
    "     [4]]\n",
    "P, L, U, M , x = lu_decomposition(A,y, 3)"
   ]
  },
  {
   "cell_type": "code",
   "execution_count": 35,
   "metadata": {
    "colab": {
     "base_uri": "https://localhost:8080/"
    },
    "id": "HLTB9iHGpgCO",
    "outputId": "805011c2-eb7e-40c4-9006-9a06be7bdc55"
   },
   "outputs": [
    {
     "name": "stdout",
     "output_type": "stream",
     "text": [
      "P: [[0. 0. 1.]\n",
      " [1. 0. 0.]\n",
      " [0. 1. 0.]] \n",
      "\n",
      "L: [[1.         0.         0.        ]\n",
      " [0.75       1.         0.        ]\n",
      " [0.25       0.09090909 1.        ]] \n",
      "\n",
      "U:[[ 4.          3.         -1.        ]\n",
      " [ 0.          2.75        3.75      ]\n",
      " [ 0.          0.          0.90909091]] \n",
      "\n",
      "M:[[ 6.        ]\n",
      " [-0.5       ]\n",
      " [-0.45454545]] \n",
      "\n",
      "x:[[ 1. ]\n",
      " [ 0.5]\n",
      " [-0.5]]\n"
     ]
    }
   ],
   "source": [
    "print(f\"P: {P} \\n\\nL: {L} \\n\\nU:{U} \\n\\nM:{M} \\n\\nx:{x}\")"
   ]
  },
  {
   "cell_type": "code",
   "execution_count": 36,
   "metadata": {
    "colab": {
     "base_uri": "https://localhost:8080/"
    },
    "id": "D3cPEIHwq8Em",
    "outputId": "98d020f0-3d46-4e94-9491-6a972a3828cb"
   },
   "outputs": [
    {
     "name": "stdout",
     "output_type": "stream",
     "text": [
      "x:[[ 1. ]\n",
      " [ 0.5]\n",
      " [-0.5]]\n"
     ]
    }
   ],
   "source": [
    "# Ex2 using np.linalg.solve()\n",
    "x = np.linalg.solve(A, y)\n",
    "print(f\"x:{x}\")"
   ]
  },
  {
   "cell_type": "code",
   "execution_count": 37,
   "metadata": {
    "colab": {
     "base_uri": "https://localhost:8080/"
    },
    "id": "XU5JgXWdph8A",
    "outputId": "fc8639cf-ad2d-41ae-cff3-d0441ddf447a"
   },
   "outputs": [
    {
     "data": {
      "text/plain": [
       "True"
      ]
     },
     "execution_count": 37,
     "metadata": {},
     "output_type": "execute_result"
    }
   ],
   "source": [
    "# to check the soution is correct\n",
    "np.allclose(np.dot(A, x), y)"
   ]
  },
  {
   "cell_type": "code",
   "execution_count": null,
   "metadata": {
    "id": "fZuwCl5JpvsY"
   },
   "outputs": [],
   "source": []
  }
 ],
 "metadata": {
  "colab": {
   "name": "LU Decomposition.ipynb",
   "provenance": []
  },
  "kernelspec": {
   "display_name": "Python 3 (ipykernel)",
   "language": "python",
   "name": "python3"
  },
  "language_info": {
   "codemirror_mode": {
    "name": "ipython",
    "version": 3
   },
   "file_extension": ".py",
   "mimetype": "text/x-python",
   "name": "python",
   "nbconvert_exporter": "python",
   "pygments_lexer": "ipython3",
   "version": "3.9.7"
  }
 },
 "nbformat": 4,
 "nbformat_minor": 1
}
