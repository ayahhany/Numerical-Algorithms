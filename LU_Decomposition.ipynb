{
  "nbformat": 4,
  "nbformat_minor": 0,
  "metadata": {
    "colab": {
      "name": "LU Decomposition.ipynb",
      "provenance": []
    },
    "kernelspec": {
      "name": "python3",
      "display_name": "Python 3"
    },
    "language_info": {
      "name": "python"
    }
  },
  "cells": [
    {
      "cell_type": "markdown",
      "source": [
        "### Solve the following system of equations using LU Decomposition method:\n",
        "#### Find L and U by hand.\n",
        "#### Confirm that A=LU then solve.\n",
        "- Ex1. 𝟐𝒙+𝟓𝒚=𝟐𝟏, 𝒙+𝟐𝒚=𝟖.\n",
        "- Ex2. 𝒙𝟏+𝒙𝟐+𝒙𝟑=𝟏, 𝟒𝒙𝟏+𝟑𝒙𝟐−𝒙𝟑=𝟔, 𝟑𝒙𝟏+𝟓𝒙_𝟐+𝟑𝒙𝟑=𝟒\n",
        "\n",
        "#### Use scipy.linalg.lu() to slove the previous system using LU decomposition and compare the results.\n",
        "\n",
        "\n",
        "### Note (when using scipy):\n",
        "- In the second system of equations We can see the <b>L and U</b> we get are different from the ones we got by hand. \n",
        "- You will also see there is a permutation matrix <b>P</b> that returned by the <b>lu function</b>. \n",
        "- This permutation matrix record how do we change the order of the equations for easier calculation purposes (for example, if first element in first row is zero, it can not be the pivot equation, since you can not turn the first elements in other rows to zero. Therefore, we need to switch the order of the equations to get a new pivot equation). \n",
        "- If you multiply <b>P with A</b>, you will see that this permutation matrix effect.\n",
        "- You will need to arrange the ouput based on the new matrix <b>A</b> achieved by <b>LU</b> multiplication in order to correctly solve the system of equations.\n",
        "\n"
      ],
      "metadata": {
        "id": "iO7n-gcRAl7H"
      }
    },
    {
      "cell_type": "code",
      "source": [
        "import numpy as np\n",
        "from scipy.linalg import lu"
      ],
      "metadata": {
        "id": "kYOxdkto3tCp"
      },
      "execution_count": 2,
      "outputs": []
    },
    {
      "cell_type": "markdown",
      "source": [
        "LU decompostion:\n",
        "* Ax = y\n",
        "* (LU)x = y\n",
        "* LM = y; then  M = (L^-1)y\n",
        "* Ux = M; then x = (U^-1)M\n",
        "\n",
        "Steps:\n",
        "\n",
        "1. get M\n",
        "2. get x\n",
        "\n",
        "Checks:\n",
        "\n",
        "1. A is already equal to LU\n",
        "2. the order of the permuatation matrix P"
      ],
      "metadata": {
        "id": "QeiAQmzNn_I0"
      }
    },
    {
      "cell_type": "code",
      "source": [
        "def lu_decomposition(A,y, dim):\n",
        "  P, L , U = lu(A)\n",
        "  if not(P == np.identity(dim)).all():\n",
        "    A = np.dot(P,A) # arrange A rows based on P rows\n",
        "    y = np.dot(P,y)\n",
        "    A = np.dot(P,A) # arrange A rows based on LU rows\n",
        "    y = np.dot(P,y)\n",
        "  if(A == np.dot(L, U)).all():\n",
        "    #1. get M : M = (L^-1)y\n",
        "    M = np.dot(np.linalg.inv(L), y)\n",
        "\n",
        "    #2. get x : x = (U^-1)M\n",
        "    x = np.dot(np.linalg.inv(U), M)\n",
        "  else:\n",
        "    print(\"LU is not equal A\")\n",
        "  return P, L, U, M , x"
      ],
      "metadata": {
        "id": "NAePDyZEngyB"
      },
      "execution_count": 23,
      "outputs": []
    },
    {
      "cell_type": "code",
      "source": [
        "# Ex1\n",
        "A = [[2,5],\n",
        "     [1,2]]\n",
        "y = [[21],\n",
        "     [8]]\n",
        "P, L, U, M , x = lu_decomposition(A,y, 2)"
      ],
      "metadata": {
        "id": "ORoxxMZsnZQu"
      },
      "execution_count": 28,
      "outputs": []
    },
    {
      "cell_type": "code",
      "source": [
        "print(f\"P: {P} \\n\\nL: {L} \\n\\nU:{U} \\n\\nM:{M} \\n\\nx:{x}\")"
      ],
      "metadata": {
        "colab": {
          "base_uri": "https://localhost:8080/"
        },
        "id": "jhxBXM5StKn9",
        "outputId": "54ef05bb-f570-4e84-e214-f580a86053c6"
      },
      "execution_count": 29,
      "outputs": [
        {
          "output_type": "stream",
          "name": "stdout",
          "text": [
            "P: [[1. 0.]\n",
            " [0. 1.]] \n",
            "\n",
            "L: [[1.  0. ]\n",
            " [0.5 1. ]] \n",
            "\n",
            "U:[[ 2.   5. ]\n",
            " [ 0.  -0.5]] \n",
            "\n",
            "M:[[21. ]\n",
            " [-2.5]] \n",
            "\n",
            "x:[[-2.]\n",
            " [ 5.]]\n"
          ]
        }
      ]
    },
    {
      "cell_type": "code",
      "source": [
        "# Ex1 using np.linalg.solve()\n",
        "x = np.linalg.solve(A, y)\n",
        "print(f\"x:{x}\")"
      ],
      "metadata": {
        "colab": {
          "base_uri": "https://localhost:8080/"
        },
        "id": "dwBGNloRuBwX",
        "outputId": "3a2a33e5-251a-4ebb-bf91-5d29e1af02bc"
      },
      "execution_count": 32,
      "outputs": [
        {
          "output_type": "stream",
          "name": "stdout",
          "text": [
            "x:[[-2.]\n",
            " [ 5.]]\n"
          ]
        }
      ]
    },
    {
      "cell_type": "code",
      "source": [
        "# to check the soution is correct\n",
        "np.allclose(np.dot(A, x), y)"
      ],
      "metadata": {
        "colab": {
          "base_uri": "https://localhost:8080/"
        },
        "id": "97FHH2OOuZMc",
        "outputId": "19d2acef-3127-48eb-93e5-108565418149"
      },
      "execution_count": 33,
      "outputs": [
        {
          "output_type": "execute_result",
          "data": {
            "text/plain": [
              "True"
            ]
          },
          "metadata": {},
          "execution_count": 33
        }
      ]
    },
    {
      "cell_type": "code",
      "source": [
        "# Ex2\n",
        "A = [[ 1,  1,  1],\n",
        "     [ 4,  3, -1],\n",
        "     [ 3,  5,  3]]\n",
        "y = [[1],\n",
        "     [6],\n",
        "     [4]]\n",
        "P, L, U, M , x = lu_decomposition(A,y, 3)"
      ],
      "metadata": {
        "id": "L5xP2IQIpb7e"
      },
      "execution_count": 34,
      "outputs": []
    },
    {
      "cell_type": "code",
      "source": [
        "print(f\"P: {P} \\n\\nL: {L} \\n\\nU:{U} \\n\\nM:{M} \\n\\nx:{x}\")"
      ],
      "metadata": {
        "colab": {
          "base_uri": "https://localhost:8080/"
        },
        "id": "HLTB9iHGpgCO",
        "outputId": "805011c2-eb7e-40c4-9006-9a06be7bdc55"
      },
      "execution_count": 35,
      "outputs": [
        {
          "output_type": "stream",
          "name": "stdout",
          "text": [
            "P: [[0. 0. 1.]\n",
            " [1. 0. 0.]\n",
            " [0. 1. 0.]] \n",
            "\n",
            "L: [[1.         0.         0.        ]\n",
            " [0.75       1.         0.        ]\n",
            " [0.25       0.09090909 1.        ]] \n",
            "\n",
            "U:[[ 4.          3.         -1.        ]\n",
            " [ 0.          2.75        3.75      ]\n",
            " [ 0.          0.          0.90909091]] \n",
            "\n",
            "M:[[ 6.        ]\n",
            " [-0.5       ]\n",
            " [-0.45454545]] \n",
            "\n",
            "x:[[ 1. ]\n",
            " [ 0.5]\n",
            " [-0.5]]\n"
          ]
        }
      ]
    },
    {
      "cell_type": "code",
      "source": [
        "# Ex2 using np.linalg.solve()\n",
        "x = np.linalg.solve(A, y)\n",
        "print(f\"x:{x}\")"
      ],
      "metadata": {
        "colab": {
          "base_uri": "https://localhost:8080/"
        },
        "id": "D3cPEIHwq8Em",
        "outputId": "98d020f0-3d46-4e94-9491-6a972a3828cb"
      },
      "execution_count": 36,
      "outputs": [
        {
          "output_type": "stream",
          "name": "stdout",
          "text": [
            "x:[[ 1. ]\n",
            " [ 0.5]\n",
            " [-0.5]]\n"
          ]
        }
      ]
    },
    {
      "cell_type": "code",
      "source": [
        "# to check the soution is correct\n",
        "np.allclose(np.dot(A, x), y)"
      ],
      "metadata": {
        "colab": {
          "base_uri": "https://localhost:8080/"
        },
        "id": "XU5JgXWdph8A",
        "outputId": "fc8639cf-ad2d-41ae-cff3-d0441ddf447a"
      },
      "execution_count": 37,
      "outputs": [
        {
          "output_type": "execute_result",
          "data": {
            "text/plain": [
              "True"
            ]
          },
          "metadata": {},
          "execution_count": 37
        }
      ]
    },
    {
      "cell_type": "code",
      "source": [
        ""
      ],
      "metadata": {
        "id": "fZuwCl5JpvsY"
      },
      "execution_count": null,
      "outputs": []
    }
  ]
}