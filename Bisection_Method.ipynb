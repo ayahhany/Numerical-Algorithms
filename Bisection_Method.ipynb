{
 "cells": [
  {
   "cell_type": "markdown",
   "metadata": {
    "id": "SLVP5R_LhGf3"
   },
   "source": [
    "## Bisection Method\n",
    "- Implement the <b>bisection method</b> as a function and solve the following equations:\n",
    "    - 𝒇(𝒙)=𝒙^𝟑−𝒙−𝟐,          𝒙∈[𝟏,𝟐]\n",
    "    - 𝒇(𝒙)=𝒙^2−𝟐,          𝒙∈[0,𝟐]\n",
    "- Draw both functions and check out the roots.\n",
    "- Try your function in another intervals and check out the results."
   ]
  },
  {
   "cell_type": "code",
   "execution_count": 55,
   "metadata": {
    "id": "eauTJLhmnq4Z"
   },
   "outputs": [],
   "source": [
    "import numpy as np\n",
    "import matplotlib.pyplot as plt"
   ]
  },
  {
   "cell_type": "code",
   "execution_count": 50,
   "metadata": {
    "id": "yTQH7-mOhDO-"
   },
   "outputs": [],
   "source": [
    "def bisection(func , a , b , tolerance):\n",
    "  def f(x):\n",
    "    f = eval(func)\n",
    "    return f\n",
    "  error = abs(b-a)\n",
    "  while error > tolerance:\n",
    "    if np.sign(f(a)) == np.sign(f(b)):\n",
    "      raise Exception(\"The scalars a and b do not bound a root\")\n",
    "  \n",
    "    c = (b+a) / 2\n",
    "    if np.sign(f(c)) == np.sign(f(a)):\n",
    "            a = c\n",
    "    else:\n",
    "        b = c\n",
    "    error = abs(b-a)\n",
    "\n",
    "  return c\n",
    "  \n",
    "  "
   ]
  },
  {
   "cell_type": "code",
   "execution_count": 51,
   "metadata": {
    "id": "sMQfMxWhjwwL"
   },
   "outputs": [],
   "source": [
    "fx1 = '(x **3 - x - 2'\n",
    "a1 = 1\n",
    "b1 = 2\n",
    "fx2 = '(x**2) - 2'\n",
    "a2 = 0\n",
    "b2 = 2"
   ]
  },
  {
   "cell_type": "code",
   "execution_count": 52,
   "metadata": {
    "colab": {
     "base_uri": "https://localhost:8080/"
    },
    "id": "zinZpXiHkPT6",
    "outputId": "4c0709f8-ac16-47ec-d055-b82940b4bb5d"
   },
   "outputs": [
    {
     "name": "stdout",
     "output_type": "stream",
     "text": [
      "r1 = 1.52099609375\n",
      "r2 = 1.41455078125\n"
     ]
    }
   ],
   "source": [
    "# 1\n",
    "r1 = bisection(fx1, a1, b1, 0.0005)\n",
    "print(\"r1 =\", r1)\n",
    "r2 = bisection(fx2, a2, b2, 0.0005)\n",
    "print(\"r2 =\", r2)"
   ]
  },
  {
   "cell_type": "code",
   "execution_count": 78,
   "metadata": {
    "colab": {
     "base_uri": "https://localhost:8080/",
     "height": 320
    },
    "id": "Rle-doT0sXO1",
    "outputId": "2c3ba8a4-6160-4cba-d95b-620eb82b9035"
   },
   "outputs": [
    {
     "data": {
      "image/png": "[encoded data removed]",
      "text/plain": [
       "<Figure size 360x360 with 1 Axes>"
      ]
     },
     "metadata": {
      "needs_background": "light"
     },
     "output_type": "display_data"
    }
   ],
   "source": [
    "x = np.linspace(-2, 2, 50)\n",
    "plt.figure(figsize = (5,5))\n",
    "plt.plot(x, eval(fx1))\n",
    "plt.scatter(r1, 0)\n",
    "plt.grid(True)\n",
    "plt.show()"
   ]
  },
  {
   "cell_type": "code",
   "execution_count": 79,
   "metadata": {
    "colab": {
     "base_uri": "https://localhost:8080/",
     "height": 265
    },
    "id": "KvWM8lqPtMQr",
    "outputId": "8ce6a477-872b-47af-9aff-744cc0dad1c4"
   },
   "outputs": [
    {
     "data": {
      "image/png": "[encoded data removed]",
      "text/plain": [
       "<Figure size 432x288 with 1 Axes>"
      ]
     },
     "metadata": {
      "needs_background": "light"
     },
     "output_type": "display_data"
    }
   ],
   "source": [
    "x = np.linspace(-2, 2, 50)\n",
    "\n",
    "plt.plot(x, eval(fx2))\n",
    "plt.scatter(r2, 0)\n",
    "plt.grid(True)\n",
    "plt.show()"
   ]
  },
  {
   "cell_type": "code",
   "execution_count": 53,
   "metadata": {
    "colab": {
     "base_uri": "https://localhost:8080/",
     "height": 289
    },
    "id": "mfZhBGg1o4rT",
    "outputId": "a0cbd980-fa25-4be9-ba0b-4a8d6b357e28"
   },
   "outputs": [
    {
     "ename": "Exception",
     "evalue": "ignored",
     "output_type": "error",
     "traceback": [
      "\u001b[0;31m---------------------------------------------------------------------------\u001b[0m",
      "\u001b[0;31mException\u001b[0m                                 Traceback (most recent call last)",
      "\u001b[0;32m<ipython-input-53-6f8ef7743ef0>\u001b[0m in \u001b[0;36m<module>\u001b[0;34m()\u001b[0m\n\u001b[0;32m----> 1\u001b[0;31m \u001b[0mbisection\u001b[0m\u001b[0;34m(\u001b[0m\u001b[0mfx1\u001b[0m\u001b[0;34m,\u001b[0m \u001b[0;34m-\u001b[0m\u001b[0;36m2\u001b[0m\u001b[0;34m,\u001b[0m \u001b[0;36m1\u001b[0m\u001b[0;34m,\u001b[0m \u001b[0;36m0.1\u001b[0m\u001b[0;34m)\u001b[0m\u001b[0;34m\u001b[0m\u001b[0;34m\u001b[0m\u001b[0m\n\u001b[0m",
      "\u001b[0;32m<ipython-input-50-a191f39f8140>\u001b[0m in \u001b[0;36mbisection\u001b[0;34m(func, a, b, tolerance)\u001b[0m\n\u001b[1;32m      6\u001b[0m   \u001b[0;32mwhile\u001b[0m \u001b[0merror\u001b[0m \u001b[0;34m>\u001b[0m \u001b[0mtolerance\u001b[0m\u001b[0;34m:\u001b[0m\u001b[0;34m\u001b[0m\u001b[0;34m\u001b[0m\u001b[0m\n\u001b[1;32m      7\u001b[0m     \u001b[0;32mif\u001b[0m \u001b[0mnp\u001b[0m\u001b[0;34m.\u001b[0m\u001b[0msign\u001b[0m\u001b[0;34m(\u001b[0m\u001b[0mf\u001b[0m\u001b[0;34m(\u001b[0m\u001b[0ma\u001b[0m\u001b[0;34m)\u001b[0m\u001b[0;34m)\u001b[0m \u001b[0;34m==\u001b[0m \u001b[0mnp\u001b[0m\u001b[0;34m.\u001b[0m\u001b[0msign\u001b[0m\u001b[0;34m(\u001b[0m\u001b[0mf\u001b[0m\u001b[0;34m(\u001b[0m\u001b[0mb\u001b[0m\u001b[0;34m)\u001b[0m\u001b[0;34m)\u001b[0m\u001b[0;34m:\u001b[0m\u001b[0;34m\u001b[0m\u001b[0;34m\u001b[0m\u001b[0m\n\u001b[0;32m----> 8\u001b[0;31m       \u001b[0;32mraise\u001b[0m \u001b[0mException\u001b[0m\u001b[0;34m(\u001b[0m\u001b[0;34m\"The scalars a and b do not bound a root\"\u001b[0m\u001b[0;34m)\u001b[0m\u001b[0;34m\u001b[0m\u001b[0;34m\u001b[0m\u001b[0m\n\u001b[0m\u001b[1;32m      9\u001b[0m \u001b[0;34m\u001b[0m\u001b[0m\n\u001b[1;32m     10\u001b[0m     \u001b[0mc\u001b[0m \u001b[0;34m=\u001b[0m \u001b[0;34m(\u001b[0m\u001b[0mb\u001b[0m\u001b[0;34m+\u001b[0m\u001b[0ma\u001b[0m\u001b[0;34m)\u001b[0m \u001b[0;34m/\u001b[0m \u001b[0;36m2\u001b[0m\u001b[0;34m\u001b[0m\u001b[0;34m\u001b[0m\u001b[0m\n",
      "\u001b[0;31mException\u001b[0m: The scalars a and b do not bound a root"
     ]
    }
   ],
   "source": [
    "bisection(fx1, -2, 1, 0.1)"
   ]
  },
  {
   "cell_type": "code",
   "execution_count": null,
   "metadata": {
    "id": "QCyROh2BsFTf"
   },
   "outputs": [],
   "source": []
  }
 ],
 "metadata": {
  "colab": {
   "name": "Bisection Method.ipynb",
   "provenance": []
  },
  "kernelspec": {
   "display_name": "Python 3",
   "language": "python",
   "name": "python3"
  },
  "language_info": {
   "codemirror_mode": {
    "name": "ipython",
    "version": 3
   },
   "file_extension": ".py",
   "mimetype": "text/x-python",
   "name": "python",
   "nbconvert_exporter": "python",
   "pygments_lexer": "ipython3",
   "version": "3.9.7"
  }
 },
 "nbformat": 4,
 "nbformat_minor": 1
}
