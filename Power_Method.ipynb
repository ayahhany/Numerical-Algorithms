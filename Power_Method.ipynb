{
  "nbformat": 4,
  "nbformat_minor": 0,
  "metadata": {
    "colab": {
      "name": "Power Method.ipynb",
      "provenance": []
    },
    "kernelspec": {
      "name": "python3",
      "display_name": "Python 3"
    },
    "language_info": {
      "name": "python"
    }
  },
  "cells": [
    {
      "cell_type": "markdown",
      "source": [
        "### Use power method to find the largest eigenvalue and the corresponding eigenvector of the matrices:\n",
        "$$\\begin{bmatrix} 0 & 2 \\\\ 2 & 3\\end{bmatrix}$$\n",
        "\n",
        "$$\\begin{bmatrix} -4 & 14 & 0 \\\\ -5 & 13 & 0 \\\\ -1 & 0 & 2 \\end{bmatrix}$$\n"
      ],
      "metadata": {
        "id": "d9Zf46oM6g4s"
      }
    },
    {
      "cell_type": "code",
      "execution_count": 26,
      "metadata": {
        "id": "vl8CGH2a6UXJ"
      },
      "outputs": [],
      "source": [
        "import numpy as np"
      ]
    },
    {
      "cell_type": "code",
      "source": [
        "def power_method(A,x, epsilon):\n",
        "  for k in range(30):\n",
        "    x_old = x\n",
        "    P = np.dot(A,x)\n",
        "    lambdaa = max(P)[0]\n",
        "    x = P/lambdaa\n",
        "    print(f\"Iteration: {k}\")\n",
        "    print(f\"Lambda: {lambdaa}\")\n",
        "    print(f\"x: {x.reshape(1,-1)}\")\n",
        "    if np.linalg.norm(x- x_old)< epsilon:\n",
        "      print(\"\\nConverged!\\n\")\n",
        "      print(f\"Eigenvalue: {lambdaa}\")\n",
        "      print(f\"Eigenvector: {x.reshape(1,-1)}\")\n",
        "      print((lambdaa , x.reshape(1,-1)))\n",
        "      break\n",
        "  return lambdaa, x.reshape(1,-1)"
      ],
      "metadata": {
        "id": "zeeu2JfX6omh"
      },
      "execution_count": 31,
      "outputs": []
    },
    {
      "cell_type": "code",
      "source": [
        "A = np.array([[0, 2], \n",
        "              [2, 3]])\n",
        "x = np.array([[1],[1]])\n",
        "eigvalue, eigvector = power_method(A,x, 0.000001)"
      ],
      "metadata": {
        "colab": {
          "base_uri": "https://localhost:8080/"
        },
        "id": "ChZSMf4N6qoG",
        "outputId": "9ef0635a-8e8d-4035-ba46-8e856dd6873f"
      },
      "execution_count": 32,
      "outputs": [
        {
          "output_type": "stream",
          "name": "stdout",
          "text": [
            "Iteration: 0\n",
            "Lambda: 5\n",
            "x: [[0.4 1. ]]\n",
            "Iteration: 1\n",
            "Lambda: 3.8\n",
            "x: [[0.52631579 1.        ]]\n",
            "Iteration: 2\n",
            "Lambda: 4.052631578947368\n",
            "x: [[0.49350649 1.        ]]\n",
            "Iteration: 3\n",
            "Lambda: 3.987012987012987\n",
            "x: [[0.50162866 1.        ]]\n",
            "Iteration: 4\n",
            "Lambda: 4.0032573289902285\n",
            "x: [[0.49959317 1.        ]]\n",
            "Iteration: 5\n",
            "Lambda: 3.999186330349878\n",
            "x: [[0.50010173 1.        ]]\n",
            "Iteration: 6\n",
            "Lambda: 4.000203458799593\n",
            "x: [[0.49997457 1.        ]]\n",
            "Iteration: 7\n",
            "Lambda: 3.999949137887188\n",
            "x: [[0.50000636 1.        ]]\n",
            "Iteration: 8\n",
            "Lambda: 4.0000127156898895\n",
            "x: [[0.49999841 1.        ]]\n",
            "Iteration: 9\n",
            "Lambda: 3.999996821087633\n",
            "x: [[0.5000004 1.       ]]\n",
            "Iteration: 10\n",
            "Lambda: 4.000000794728724\n",
            "x: [[0.4999999 1.       ]]\n",
            "\n",
            "Converged!\n",
            "\n",
            "Eigenvalue: 4.000000794728724\n",
            "Eigenvector: [[0.4999999 1.       ]]\n",
            "(4.000000794728724, array([[0.4999999, 1.       ]]))\n"
          ]
        }
      ]
    },
    {
      "cell_type": "code",
      "source": [
        "A = np.array([[-4,14,0],\n",
        "              [-5,13,0],\n",
        "              [-1,0,2]])\n",
        "x =np.array([[1],[1],[1]])\n",
        "eigvalue, eigvector = power_method(A,x, 0.000001)"
      ],
      "metadata": {
        "colab": {
          "base_uri": "https://localhost:8080/"
        },
        "id": "XPSfWfos7ipH",
        "outputId": "5ee09054-71d2-462b-a262-73b8994917fa"
      },
      "execution_count": 33,
      "outputs": [
        {
          "output_type": "stream",
          "name": "stdout",
          "text": [
            "Iteration: 0\n",
            "Lambda: 10\n",
            "x: [[1.  0.8 0.1]]\n",
            "Iteration: 1\n",
            "Lambda: 7.200000000000001\n",
            "x: [[ 1.          0.75       -0.11111111]]\n",
            "Iteration: 2\n",
            "Lambda: 6.499999999999998\n",
            "x: [[ 1.          0.73076923 -0.18803419]]\n",
            "Iteration: 3\n",
            "Lambda: 6.23076923076923\n",
            "x: [[ 1.          0.72222222 -0.22085048]]\n",
            "Iteration: 4\n",
            "Lambda: 6.1111111111111125\n",
            "x: [[ 1.          0.71818182 -0.2359147 ]]\n",
            "Iteration: 5\n",
            "Lambda: 6.054545454545453\n",
            "x: [[ 1.          0.71621622 -0.24309495]]\n",
            "Iteration: 6\n",
            "Lambda: 6.0270270270270245\n",
            "x: [[ 1.          0.71524664 -0.24658756]]\n",
            "Iteration: 7\n",
            "Lambda: 6.013452914798206\n",
            "x: [[ 1.          0.7147651  -0.24830578]]\n",
            "Iteration: 8\n",
            "Lambda: 6.006711409395972\n",
            "x: [[ 1.          0.71452514 -0.24915656]]\n",
            "Iteration: 9\n",
            "Lambda: 6.003351955307263\n",
            "x: [[ 1.          0.71440536 -0.24957942]]\n",
            "Iteration: 10\n",
            "Lambda: 6.001675041876046\n",
            "x: [[ 1.          0.71434552 -0.24979007]]\n",
            "Iteration: 11\n",
            "Lambda: 6.00083728718951\n",
            "x: [[ 1.          0.71431561 -0.24989515]]\n",
            "Iteration: 12\n",
            "Lambda: 6.000418585182082\n",
            "x: [[ 1.          0.71430066 -0.24994761]]\n",
            "Iteration: 13\n",
            "Lambda: 6.000209277990933\n",
            "x: [[ 1.          0.71429319 -0.24997382]]\n",
            "Iteration: 14\n",
            "Lambda: 6.000104635345821\n",
            "x: [[ 1.          0.71428945 -0.24998691]]\n",
            "Iteration: 15\n",
            "Lambda: 6.000052316760543\n",
            "x: [[ 1.          0.71428758 -0.24999346]]\n",
            "Iteration: 16\n",
            "Lambda: 6.0000261581521865\n",
            "x: [[ 1.          0.71428665 -0.24999673]]\n",
            "Iteration: 17\n",
            "Lambda: 6.0000130790190696\n",
            "x: [[ 1.          0.71428618 -0.24999836]]\n",
            "Iteration: 18\n",
            "Lambda: 6.0000065394952795\n",
            "x: [[ 1.          0.71428595 -0.24999918]]\n",
            "\n",
            "Converged!\n",
            "\n",
            "Eigenvalue: 6.0000065394952795\n",
            "Eigenvector: [[ 1.          0.71428595 -0.24999918]]\n",
            "(6.0000065394952795, array([[ 1.        ,  0.71428595, -0.24999918]]))\n"
          ]
        }
      ]
    },
    {
      "cell_type": "markdown",
      "source": [
        "## PageRank Algorithm\n",
        "### Use the power method to find the rank of each node in the following graph:\n",
        "![image-2.png](attachment:image-2.png)"
      ],
      "metadata": {
        "id": "xVDJ0u8782C-"
      }
    },
    {
      "cell_type": "code",
      "source": [
        "P = np.array([[0, 0, 0.25,   0, 0],\n",
        "              [1, 0, 0.25,   0, 0],\n",
        "              [0, 0,    0, 0.5, 0],\n",
        "              [0, 0, 0.25,   0, 1],\n",
        "              [0, 1, 0.25, 0.5, 0]])\n",
        "\n",
        "r = (np.ones(P.shape[1]) / P.shape[1]).reshape(-1,1)\n",
        "\n",
        "eigvalue, eigvector = power_method(P, r, 0.00001)"
      ],
      "metadata": {
        "colab": {
          "base_uri": "https://localhost:8080/"
        },
        "id": "Y_ydgX3c7-nq",
        "outputId": "6018c0c7-c60c-4b3f-bfca-8bc339de1166"
      },
      "execution_count": 47,
      "outputs": [
        {
          "output_type": "stream",
          "name": "stdout",
          "text": [
            "Iteration: 0\n",
            "Lambda: 0.35000000000000003\n",
            "x: [[0.14285714 0.71428571 0.28571429 0.71428571 1.        ]]\n",
            "Iteration: 1\n",
            "Lambda: 1.1428571428571426\n",
            "x: [[0.0625 0.1875 0.3125 0.9375 1.    ]]\n",
            "Iteration: 2\n",
            "Lambda: 1.078125\n",
            "x: [[0.07246377 0.13043478 0.43478261 1.         0.68115942]]\n",
            "Iteration: 3\n",
            "Lambda: 0.7898550724637683\n",
            "x: [[0.13761468 0.2293578  0.63302752 1.         0.93577982]]\n",
            "Iteration: 4\n",
            "Lambda: 1.0940366972477062\n",
            "x: [[0.14465409 0.27044025 0.45702306 1.         0.81132075]]\n",
            "Iteration: 5\n",
            "Lambda: 0.9255765199161426\n",
            "x: [[0.12344281 0.2797282  0.54020385 1.         0.95583239]]\n",
            "Iteration: 6\n",
            "Lambda: 1.0908833522083805\n",
            "x: [[0.12379964 0.23695821 0.45834415 1.         0.83856735]]\n",
            "Iteration: 7\n",
            "Lambda: 0.9531533869711913\n",
            "x: [[0.12021784 0.25010211 0.52457454 1.         0.89339687]]\n",
            "Iteration: 8\n",
            "Lambda: 1.0245405037440434\n",
            "x: [[0.12800239 0.24534069 0.48802365 1.         0.86013754]]\n",
            "Iteration: 9\n",
            "Lambda: 0.9821434503837083\n",
            "x: [[0.12422413 0.25455376 0.5090906  1.         0.883116  ]]\n",
            "Iteration: 10\n",
            "Lambda: 1.01038865492922\n",
            "x: [[0.12596405 0.24891093 0.49485908 1.         0.87275961]]\n",
            "Iteration: 11\n",
            "Lambda: 0.9964743790931728\n",
            "x: [[0.12415248 0.25056221 0.50176905 1.         0.87571313]]\n",
            "Iteration: 12\n",
            "Lambda: 1.0011553927075347\n",
            "x: [[0.12529749 0.2493067  0.49942297 1.         0.87499351]]\n",
            "Iteration: 13\n",
            "Lambda: 0.9998492539512509\n",
            "x: [[0.12487457 0.25019095 0.50007538 1.         0.87429424]]\n",
            "Iteration: 14\n",
            "Lambda: 0.9993130843437243\n",
            "x: [[0.12510478 0.25006519 0.50034369 1.         0.87581141]]\n",
            "Iteration: 15\n",
            "Lambda: 1.0008973300765007\n",
            "x: [[0.12497378 0.2499664  0.49955174 1.         0.87436651]]\n",
            "Iteration: 16\n",
            "Lambda: 0.9992544491299306\n",
            "x: [[0.12498111 0.25004814 0.50037305 1.         0.87550707]]\n",
            "Iteration: 17\n",
            "Lambda: 1.0006003363897296\n",
            "x: [[0.12501821 0.24992434 0.49970001 1.         0.87461634]]\n",
            "Iteration: 18\n",
            "Lambda: 0.9995413410059891\n",
            "x: [[0.12498233 0.2500579  0.50022943 1.         0.87525078]]\n",
            "Iteration: 19\n",
            "Lambda: 1.0003081420956892\n",
            "x: [[0.12501884 0.24996266 0.49984598 1.         0.87484569]]\n",
            "Iteration: 20\n",
            "Lambda: 0.9998071806943936\n",
            "x: [[0.12498559 0.25002854 0.50009643 1.         0.87509289]]\n",
            "Iteration: 21\n",
            "Lambda: 1.0001169978754345\n",
            "x: [[0.12500948 0.24998045 0.49994151 1.         0.87495028]]\n",
            "Iteration: 22\n",
            "Lambda: 0.9999356562633314\n",
            "x: [[0.12499342 0.25001094 0.50003217 1.         0.87502213]]\n",
            "Iteration: 23\n",
            "Lambda: 1.0000301762730124\n",
            "x: [[0.12500427 0.24999392 0.49998491 1.         0.87499258]]\n",
            "Iteration: 24\n",
            "Lambda: 0.9999888123818477\n",
            "x: [[0.12499763 0.2500033  0.50000559 1.         0.87499994]]\n",
            "Iteration: 25\n",
            "Lambda: 1.0000013348327628\n",
            "x: [[0.12500123 0.24999869 0.49999933 1.         0.87500353]]\n",
            "\n",
            "Converged!\n",
            "\n",
            "Eigenvalue: 1.0000013348327628\n",
            "Eigenvector: [[0.12500123 0.24999869 0.49999933 1.         0.87500353]]\n",
            "(1.0000013348327628, array([[0.12500123, 0.24999869, 0.49999933, 1.        , 0.87500353]]))\n"
          ]
        }
      ]
    },
    {
      "cell_type": "code",
      "source": [
        "import pandas as pd"
      ],
      "metadata": {
        "id": "vpJIDDoBDRFx"
      },
      "execution_count": 48,
      "outputs": []
    },
    {
      "cell_type": "code",
      "source": [
        "df = pd.DataFrame()\n",
        "df['rank'] = eigvector.ravel()\n",
        "df['nodes'] = np.arange(df.shape[0])\n",
        "df.sort_values(by=['rank'], ascending=False)"
      ],
      "metadata": {
        "colab": {
          "base_uri": "https://localhost:8080/",
          "height": 206
        },
        "id": "27IHJ5ruE8ji",
        "outputId": "33664025-3a56-4def-9f99-f4a765b28778"
      },
      "execution_count": 61,
      "outputs": [
        {
          "output_type": "execute_result",
          "data": {
            "text/plain": [
              "       rank  nodes\n",
              "3  1.000000      3\n",
              "4  0.875004      4\n",
              "2  0.499999      2\n",
              "1  0.249999      1\n",
              "0  0.125001      0"
            ],
            "text/html": [
              "\n",
              "  <div id=\"df-4df2de34-7fa8-4c16-b487-a03afeb926fe\">\n",
              "    <div class=\"colab-df-container\">\n",
              "      <div>\n",
              "<style scoped>\n",
              "    .dataframe tbody tr th:only-of-type {\n",
              "        vertical-align: middle;\n",
              "    }\n",
              "\n",
              "    .dataframe tbody tr th {\n",
              "        vertical-align: top;\n",
              "    }\n",
              "\n",
              "    .dataframe thead th {\n",
              "        text-align: right;\n",
              "    }\n",
              "</style>\n",
              "<table border=\"1\" class=\"dataframe\">\n",
              "  <thead>\n",
              "    <tr style=\"text-align: right;\">\n",
              "      <th></th>\n",
              "      <th>rank</th>\n",
              "      <th>nodes</th>\n",
              "    </tr>\n",
              "  </thead>\n",
              "  <tbody>\n",
              "    <tr>\n",
              "      <th>3</th>\n",
              "      <td>1.000000</td>\n",
              "      <td>3</td>\n",
              "    </tr>\n",
              "    <tr>\n",
              "      <th>4</th>\n",
              "      <td>0.875004</td>\n",
              "      <td>4</td>\n",
              "    </tr>\n",
              "    <tr>\n",
              "      <th>2</th>\n",
              "      <td>0.499999</td>\n",
              "      <td>2</td>\n",
              "    </tr>\n",
              "    <tr>\n",
              "      <th>1</th>\n",
              "      <td>0.249999</td>\n",
              "      <td>1</td>\n",
              "    </tr>\n",
              "    <tr>\n",
              "      <th>0</th>\n",
              "      <td>0.125001</td>\n",
              "      <td>0</td>\n",
              "    </tr>\n",
              "  </tbody>\n",
              "</table>\n",
              "</div>\n",
              "      <button class=\"colab-df-convert\" onclick=\"convertToInteractive('df-4df2de34-7fa8-4c16-b487-a03afeb926fe')\"\n",
              "              title=\"Convert this dataframe to an interactive table.\"\n",
              "              style=\"display:none;\">\n",
              "        \n",
              "  <svg xmlns=\"http://www.w3.org/2000/svg\" height=\"24px\"viewBox=\"0 0 24 24\"\n",
              "       width=\"24px\">\n",
              "    <path d=\"M0 0h24v24H0V0z\" fill=\"none\"/>\n",
              "    <path d=\"M18.56 5.44l.94 2.06.94-2.06 2.06-.94-2.06-.94-.94-2.06-.94 2.06-2.06.94zm-11 1L8.5 8.5l.94-2.06 2.06-.94-2.06-.94L8.5 2.5l-.94 2.06-2.06.94zm10 10l.94 2.06.94-2.06 2.06-.94-2.06-.94-.94-2.06-.94 2.06-2.06.94z\"/><path d=\"M17.41 7.96l-1.37-1.37c-.4-.4-.92-.59-1.43-.59-.52 0-1.04.2-1.43.59L10.3 9.45l-7.72 7.72c-.78.78-.78 2.05 0 2.83L4 21.41c.39.39.9.59 1.41.59.51 0 1.02-.2 1.41-.59l7.78-7.78 2.81-2.81c.8-.78.8-2.07 0-2.86zM5.41 20L4 18.59l7.72-7.72 1.47 1.35L5.41 20z\"/>\n",
              "  </svg>\n",
              "      </button>\n",
              "      \n",
              "  <style>\n",
              "    .colab-df-container {\n",
              "      display:flex;\n",
              "      flex-wrap:wrap;\n",
              "      gap: 12px;\n",
              "    }\n",
              "\n",
              "    .colab-df-convert {\n",
              "      background-color: #E8F0FE;\n",
              "      border: none;\n",
              "      border-radius: 50%;\n",
              "      cursor: pointer;\n",
              "      display: none;\n",
              "      fill: #1967D2;\n",
              "      height: 32px;\n",
              "      padding: 0 0 0 0;\n",
              "      width: 32px;\n",
              "    }\n",
              "\n",
              "    .colab-df-convert:hover {\n",
              "      background-color: #E2EBFA;\n",
              "      box-shadow: 0px 1px 2px rgba(60, 64, 67, 0.3), 0px 1px 3px 1px rgba(60, 64, 67, 0.15);\n",
              "      fill: #174EA6;\n",
              "    }\n",
              "\n",
              "    [theme=dark] .colab-df-convert {\n",
              "      background-color: #3B4455;\n",
              "      fill: #D2E3FC;\n",
              "    }\n",
              "\n",
              "    [theme=dark] .colab-df-convert:hover {\n",
              "      background-color: #434B5C;\n",
              "      box-shadow: 0px 1px 3px 1px rgba(0, 0, 0, 0.15);\n",
              "      filter: drop-shadow(0px 1px 2px rgba(0, 0, 0, 0.3));\n",
              "      fill: #FFFFFF;\n",
              "    }\n",
              "  </style>\n",
              "\n",
              "      <script>\n",
              "        const buttonEl =\n",
              "          document.querySelector('#df-4df2de34-7fa8-4c16-b487-a03afeb926fe button.colab-df-convert');\n",
              "        buttonEl.style.display =\n",
              "          google.colab.kernel.accessAllowed ? 'block' : 'none';\n",
              "\n",
              "        async function convertToInteractive(key) {\n",
              "          const element = document.querySelector('#df-4df2de34-7fa8-4c16-b487-a03afeb926fe');\n",
              "          const dataTable =\n",
              "            await google.colab.kernel.invokeFunction('convertToInteractive',\n",
              "                                                     [key], {});\n",
              "          if (!dataTable) return;\n",
              "\n",
              "          const docLinkHtml = 'Like what you see? Visit the ' +\n",
              "            '<a target=\"_blank\" href=https://colab.research.google.com/notebooks/data_table.ipynb>data table notebook</a>'\n",
              "            + ' to learn more about interactive tables.';\n",
              "          element.innerHTML = '';\n",
              "          dataTable['output_type'] = 'display_data';\n",
              "          await google.colab.output.renderOutput(dataTable, element);\n",
              "          const docLink = document.createElement('div');\n",
              "          docLink.innerHTML = docLinkHtml;\n",
              "          element.appendChild(docLink);\n",
              "        }\n",
              "      </script>\n",
              "    </div>\n",
              "  </div>\n",
              "  "
            ]
          },
          "metadata": {},
          "execution_count": 61
        }
      ]
    },
    {
      "cell_type": "code",
      "source": [
        ""
      ],
      "metadata": {
        "id": "eQLaZqBZGoM0"
      },
      "execution_count": null,
      "outputs": []
    }
  ]
}