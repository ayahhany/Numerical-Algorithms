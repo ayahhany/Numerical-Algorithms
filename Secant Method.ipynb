{
 "cells": [
  {
   "cell_type": "markdown",
   "id": "7e9b0ab3",
   "metadata": {},
   "source": [
    "## Secant Method\n",
    "- Implement the <b>Secant method</b> as a function and solve the following equation:\n",
    "    - $𝒇(𝒙)=𝒙^𝟑−𝒙^𝟐−𝟏𝟓𝒙+𝟏$,          𝒙_𝟎=𝟒.𝟓\n",
    "- Draw the functions and check out the roots.\n",
    "- Try your function with different initialization and check out the results.\n",
    "- Compare the results with the one from Newton's method."
   ]
  },
  {
   "cell_type": "code",
   "execution_count": 1,
   "id": "9032c0df",
   "metadata": {},
   "outputs": [],
   "source": [
    "import numpy as np\n",
    "import matplotlib.pyplot as plt"
   ]
  },
  {
   "cell_type": "code",
   "execution_count": 2,
   "id": "773080cb",
   "metadata": {},
   "outputs": [
    {
     "data": {
      "image/png": "[encoded data removed]",
      "text/plain": [
       "<Figure size 432x288 with 1 Axes>"
      ]
     },
     "metadata": {
      "needs_background": "light"
     },
     "output_type": "display_data"
    }
   ],
   "source": [
    "x = np.linspace(-5, 5,40)\n",
    "fx = '(x**3) - (x**2) - 15*x + 1 '\n",
    "\n",
    "plt.plot(x, eval(fx))\n",
    "plt.grid(True)\n",
    "plt.show()"
   ]
  },
  {
   "cell_type": "code",
   "execution_count": 4,
   "id": "f0cce132",
   "metadata": {},
   "outputs": [],
   "source": [
    "def secant(x0,func, eps):\n",
    "    def f(x):\n",
    "        f = eval(func)\n",
    "        return f\n",
    "    # assume x1\n",
    "    x1 = 4.5\n",
    "    for i in range(1,1000):\n",
    "        x2 = x1 - f(x1) * (x0 - x1) / (f(x0) - f(x1))\n",
    "        \n",
    "        if  f(x2) < eps:\n",
    "            return i , x2 , f(x2)\n",
    "        else:\n",
    "            x0 = x1\n",
    "            x1 = x2\n",
    "        "
   ]
  },
  {
   "cell_type": "code",
   "execution_count": 5,
   "id": "e12935ee",
   "metadata": {},
   "outputs": [
    {
     "name": "stdout",
     "output_type": "stream",
     "text": [
      "Found solution after 5 iterations.\n",
      "r = 4.375753855672038\n",
      "f(r1) = 3.097966327914037e-12\n"
     ]
    }
   ],
   "source": [
    "# Secant with initial xk-1 = 5.5, epsilon = 1e-8\n",
    "i, r, fr = secant(5.5,fx, 1e-8)\n",
    "print(f'Found solution after {i} iterations.')\n",
    "print(f'r = {r}')\n",
    "print(f'f(r1) = {fr}')"
   ]
  },
  {
   "cell_type": "code",
   "execution_count": 24,
   "id": "b932ac89",
   "metadata": {},
   "outputs": [],
   "source": [
    "#### implement newton\n",
    "f = lambda x: x**3 - x**2 - 15*x +1\n",
    "Df = lambda x: 3*(x**2) - 2*x  -15\n",
    "DDf = lambda x: 6*x - 2\n",
    "\n",
    "def newton(alpha, x0, eps):\n",
    "    x = x0\n",
    "    for i in range(1,1000):\n",
    "        x = x - alpha * ((f(x) / Df(x)))\n",
    "        if f(x) < eps:\n",
    "            print('Converged!')\n",
    "            break\n",
    "    return i, x, f(x)"
   ]
  },
  {
   "cell_type": "code",
   "execution_count": 25,
   "id": "3d0174b1",
   "metadata": {},
   "outputs": [
    {
     "name": "stdout",
     "output_type": "stream",
     "text": [
      "Converged!\n",
      "Found solution after 5 iterations.\n",
      "r = 4.375753855671946\n",
      "f(r1) = 1.4210854715202004e-14\n"
     ]
    },
    {
     "data": {
      "text/plain": [
       "'Found solution after 3 iterations.\\nr = 4.375753855705814 \\nf(r1) = 1.1410321576477145e-09'"
      ]
     },
     "execution_count": 25,
     "metadata": {},
     "output_type": "execute_result"
    }
   ],
   "source": [
    "# Newton's with epsilon = 1e-8\n",
    "i, r, fr = newton(1, 5.5, 1e-8)\n",
    "print(f'Found solution after {i} iterations.')\n",
    "print(f'r = {r}')\n",
    "print(f'f(r1) = {fr}')\n",
    "'''Found solution after 3 iterations.\n",
    "r = 4.375753855705814 \n",
    "f(r1) = 1.1410321576477145e-09'''"
   ]
  },
  {
   "cell_type": "code",
   "execution_count": 7,
   "id": "a72afc80",
   "metadata": {
    "scrolled": true
   },
   "outputs": [
    {
     "name": "stdout",
     "output_type": "stream",
     "text": [
      "Found solution after 4 iterations.\n",
      "r = 4.3757538557143265\n",
      "f(r1) = 1.427807205800491e-09\n"
     ]
    }
   ],
   "source": [
    "# Secant with initial xk-1 = 4.51, epsilon = 1e-8\n",
    "i, r, fr = secant(4.51,fx, 1e-8)\n",
    "print(f'Found solution after {i} iterations.')\n",
    "print(f'r = {r}')\n",
    "print(f'f(r1) = {fr}')"
   ]
  },
  {
   "cell_type": "code",
   "execution_count": 26,
   "id": "b5e769b3",
   "metadata": {},
   "outputs": [
    {
     "name": "stdout",
     "output_type": "stream",
     "text": [
      "Found solution after 4 iterations.\n",
      "r = -3.671133716289983\n",
      "f(r1) = -6.886903905295014\n"
     ]
    }
   ],
   "source": [
    "# Secant with initial xk-1 = 0, epsilon = 1e-8\n",
    "i, r, fr = secant(0.0,fx, 1e-8)\n",
    "print(f'Found solution after {i} iterations.')\n",
    "print(f'r = {r}')\n",
    "print(f'f(r1) = {fr}')"
   ]
  },
  {
   "cell_type": "code",
   "execution_count": null,
   "id": "62cd524b",
   "metadata": {},
   "outputs": [],
   "source": []
  },
  {
   "cell_type": "code",
   "execution_count": null,
   "id": "06caa2d1",
   "metadata": {},
   "outputs": [],
   "source": []
  }
 ],
 "metadata": {
  "kernelspec": {
   "display_name": "Python 3 (ipykernel)",
   "language": "python",
   "name": "python3"
  },
  "language_info": {
   "codemirror_mode": {
    "name": "ipython",
    "version": 3
   },
   "file_extension": ".py",
   "mimetype": "text/x-python",
   "name": "python",
   "nbconvert_exporter": "python",
   "pygments_lexer": "ipython3",
   "version": "3.9.7"
  }
 },
 "nbformat": 4,
 "nbformat_minor": 5
}
