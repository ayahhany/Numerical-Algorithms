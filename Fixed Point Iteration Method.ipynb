{
 "cells": [
  {
   "cell_type": "markdown",
   "id": "15e385c5",
   "metadata": {},
   "source": [
    "## Fixed Point Iteration Method\n",
    "- Implement the <b>Fixed Point Iteration Method</b> as a function and solve the following equations:\n",
    "    - $f(x) = x^2 - x - 1 = 0$\n",
    "    - $𝒇(𝒙)=𝒙−𝒔𝒊𝒏(𝒙)−𝟎.𝟓$\n",
    "- Draw the functions and check out the roots.\n",
    "- Draw g(x).\n",
    "- Try your function with different initialization and check out the results.."
   ]
  },
  {
   "cell_type": "code",
   "execution_count": null,
   "id": "b91d19a2",
   "metadata": {},
   "outputs": [],
   "source": [
    "y = (x1**2)-x1-1\n",
    "plt.plot(x1,y)\n",
    "plt.show()\n",
    "y = x1-np.sin(x1) -0.5\n",
    "plt.plot(x1,y)\n",
    "plt.show()"
   ]
  }
 ],
 "metadata": {
  "kernelspec": {
   "display_name": "Python 3",
   "language": "python",
   "name": "python3"
  }
 },
 "nbformat": 4,
 "nbformat_minor": 5
}
