{
  "nbformat": 4,
  "nbformat_minor": 0,
  "metadata": {
    "colab": {
      "name": "The Moore Penrose Pseudoinverse.ipynb",
      "provenance": []
    },
    "kernelspec": {
      "name": "python3",
      "display_name": "Python 3"
    },
    "language_info": {
      "name": "python"
    }
  },
  "cells": [
    {
      "cell_type": "markdown",
      "source": [
        "### Find SVD for the matrix A then find it's Pseeudoinverse:\n",
        "$$\\begin{bmatrix} 7 & 2 \\\\ 3 & 4 \\\\ 5 & 3 \\end{bmatrix}$$"
      ],
      "metadata": {
        "id": "ZzYUL3OTQUNZ"
      }
    },
    {
      "cell_type": "code",
      "source": [
        "import numpy as np\n",
        "import matplotlib.pyplot as plt"
      ],
      "metadata": {
        "id": "AWlHdljFQhjh"
      },
      "execution_count": 51,
      "outputs": []
    },
    {
      "cell_type": "code",
      "execution_count": 38,
      "metadata": {
        "id": "KgqBsq86QNUj"
      },
      "outputs": [],
      "source": [
        "A = np.array([[7,2],\n",
        "              [3,4],\n",
        "              [5,3]])\n",
        "U,D,Vtrans = np.linalg.svd(A)"
      ]
    },
    {
      "cell_type": "code",
      "source": [
        "Vtrans"
      ],
      "metadata": {
        "colab": {
          "base_uri": "https://localhost:8080/"
        },
        "id": "Qil9GfoMe1nn",
        "outputId": "d31b52a0-5cd4-4dc0-99bb-c42cab10127e"
      },
      "execution_count": 39,
      "outputs": [
        {
          "output_type": "execute_result",
          "data": {
            "text/plain": [
              "array([[-0.88033817, -0.47434662],\n",
              "       [ 0.47434662, -0.88033817]])"
            ]
          },
          "metadata": {},
          "execution_count": 39
        }
      ]
    },
    {
      "cell_type": "code",
      "source": [
        "U"
      ],
      "metadata": {
        "colab": {
          "base_uri": "https://localhost:8080/"
        },
        "id": "w48AC9q8e5pJ",
        "outputId": "cd050d0a-a623-4b1b-f8eb-5e9d14fc6961"
      },
      "execution_count": 40,
      "outputs": [
        {
          "output_type": "execute_result",
          "data": {
            "text/plain": [
              "array([[-0.69366543,  0.59343205, -0.40824829],\n",
              "       [-0.4427092 , -0.79833696, -0.40824829],\n",
              "       [-0.56818732, -0.10245245,  0.81649658]])"
            ]
          },
          "metadata": {},
          "execution_count": 40
        }
      ]
    },
    {
      "cell_type": "code",
      "source": [
        "# A+ = V . D+ . U.T\n",
        "# 1. get D+\n",
        "D = np.diag(D)\n",
        "D_inv = np.linalg.inv(D)\n",
        "D_plus = np.concatenate((D_inv,np.array([[0]*D.shape[0]]).T), axis=1)"
      ],
      "metadata": {
        "id": "KufeV9jscMgB"
      },
      "execution_count": 41,
      "outputs": []
    },
    {
      "cell_type": "code",
      "source": [
        "D_plus"
      ],
      "metadata": {
        "colab": {
          "base_uri": "https://localhost:8080/"
        },
        "id": "pavPJb4Ie7RH",
        "outputId": "e9425164-b39d-4f9e-b4a8-8fdc8a97c7ed"
      },
      "execution_count": 42,
      "outputs": [
        {
          "output_type": "execute_result",
          "data": {
            "text/plain": [
              "array([[0.0975474 , 0.        , 0.        ],\n",
              "       [0.        , 0.38046613, 0.        ]])"
            ]
          },
          "metadata": {},
          "execution_count": 42
        }
      ]
    },
    {
      "cell_type": "code",
      "source": [
        "# 2. get A+\n",
        "A_plus = Vtrans.T @ D_plus @ U.T"
      ],
      "metadata": {
        "id": "r3xRyoFVeUSe"
      },
      "execution_count": 43,
      "outputs": []
    },
    {
      "cell_type": "code",
      "source": [
        "A_plus"
      ],
      "metadata": {
        "colab": {
          "base_uri": "https://localhost:8080/"
        },
        "id": "ulVi7atXQuMW",
        "outputId": "2bf3efa1-80e6-4896-833f-6540ea384d60"
      },
      "execution_count": 44,
      "outputs": [
        {
          "output_type": "execute_result",
          "data": {
            "text/plain": [
              "array([[ 0.16666667, -0.10606061,  0.03030303],\n",
              "       [-0.16666667,  0.28787879,  0.06060606]])"
            ]
          },
          "metadata": {},
          "execution_count": 44
        }
      ]
    },
    {
      "cell_type": "markdown",
      "source": [
        "### Use np.linalg.pinv(A) and compare the results"
      ],
      "metadata": {
        "id": "Y2gregBKfHJM"
      }
    },
    {
      "cell_type": "code",
      "source": [
        "np.linalg.pinv(A)"
      ],
      "metadata": {
        "colab": {
          "base_uri": "https://localhost:8080/"
        },
        "id": "uRlhAOjcfKKn",
        "outputId": "e14ccae7-69b7-4c81-9af1-f95f5ad6222b"
      },
      "execution_count": 46,
      "outputs": [
        {
          "output_type": "execute_result",
          "data": {
            "text/plain": [
              "array([[ 0.16666667, -0.10606061,  0.03030303],\n",
              "       [-0.16666667,  0.28787879,  0.06060606]])"
            ]
          },
          "metadata": {},
          "execution_count": 46
        }
      ]
    },
    {
      "cell_type": "markdown",
      "source": [
        "### Multiply A+ and  A. See if the result is close to the Identity matrix"
      ],
      "metadata": {
        "id": "fuT-dPpCfgVP"
      }
    },
    {
      "cell_type": "code",
      "source": [
        "A_plus @ A"
      ],
      "metadata": {
        "colab": {
          "base_uri": "https://localhost:8080/"
        },
        "id": "iXPtwDolfNAD",
        "outputId": "17676caa-243b-40bb-ce00-5cb6ff52b581"
      },
      "execution_count": 47,
      "outputs": [
        {
          "output_type": "execute_result",
          "data": {
            "text/plain": [
              "array([[1.00000000e+00, 2.70616862e-16],\n",
              "       [2.28983499e-16, 1.00000000e+00]])"
            ]
          },
          "metadata": {},
          "execution_count": 47
        }
      ]
    },
    {
      "cell_type": "markdown",
      "source": [
        "### Multiply A and A+. Notice the result\n",
        "- A difference with the real inverse is that A+A is approximate I. However AA+ is not"
      ],
      "metadata": {
        "id": "2IXswxcGfoKM"
      }
    },
    {
      "cell_type": "code",
      "source": [
        "A @ A_plus"
      ],
      "metadata": {
        "colab": {
          "base_uri": "https://localhost:8080/"
        },
        "id": "JCRuDRjBfiL_",
        "outputId": "b1fa0c11-39b2-4b61-e0ec-90818a2f6f0c"
      },
      "execution_count": 48,
      "outputs": [
        {
          "output_type": "execute_result",
          "data": {
            "text/plain": [
              "array([[ 0.83333333, -0.16666667,  0.33333333],\n",
              "       [-0.16666667,  0.83333333,  0.33333333],\n",
              "       [ 0.33333333,  0.33333333,  0.33333333]])"
            ]
          },
          "metadata": {},
          "execution_count": 48
        }
      ]
    },
    {
      "cell_type": "markdown",
      "source": [
        "### Using the pseudoinverse to solve a overdetermined system of linear equations\n",
        "- In general there is no solution to overdetermined systems.\n",
        "- In the following picture, there is no point at the intersection of the three lines corresponding to three equations:\n",
        "![image.png](attachment:image.png)"
      ],
      "metadata": {
        "id": "VKR18XawfzVg"
      }
    },
    {
      "cell_type": "markdown",
      "source": [
        "### Use pseudoinverse to find the approximate solution of the following system of linear equations:\n",
        "#### -2x1 - x2 = -2 , 4x1 - x2 = -8 , -x1 - x2 =-2"
      ],
      "metadata": {
        "id": "9-difKdOf3o5"
      }
    },
    {
      "cell_type": "code",
      "source": [
        "x1 = np.linspace(-5, 5, 1000)\n",
        "x2_1 = -2*x1 + 2\n",
        "x2_2 = 4*x1 + 8\n",
        "x2_3 = -1*x1 + 2\n",
        "\n",
        "plt.plot(x1, x2_1)\n",
        "plt.plot(x1, x2_2)\n",
        "plt.plot(x1, x2_3)\n",
        "plt.xlim(-2., 1)\n",
        "plt.ylim(1, 5)\n",
        "plt.show()"
      ],
      "metadata": {
        "colab": {
          "base_uri": "https://localhost:8080/",
          "height": 269
        },
        "id": "TNS3UTCCfqLT",
        "outputId": "94a09fac-5ce8-47da-f9d4-f39c205880b4"
      },
      "execution_count": 52,
      "outputs": [
        {
          "output_type": "display_data",
          "data": {
            "text/plain": [
              "<Figure size 432x288 with 1 Axes>"
            ],
            "image/png": "[encoded data removed]"
          },
          "metadata": {
            "needs_background": "light"
          }
        }
      ]
    },
    {
      "cell_type": "code",
      "source": [
        "A = np.array([[-2, -1],\n",
        "              [ 4, -1],\n",
        "              [-1, -1]])\n",
        "\n",
        "y = np.array([[-2, -8, -2]]).T\n",
        "\n",
        "U,D,Vtrans = np.linalg.svd(A)\n",
        "# 1. get D+\n",
        "D = np.diag(D)\n",
        "D_inv = np.linalg.inv(D)\n",
        "D_plus = np.concatenate((D_inv,np.array([[0]*D.shape[0]]).T), axis=1)\n",
        "# 2. get A+\n",
        "A_plus = Vtrans.T @ D_plus @ U.T"
      ],
      "metadata": {
        "id": "UJ-1qk1hf75x"
      },
      "execution_count": 54,
      "outputs": []
    },
    {
      "cell_type": "code",
      "source": [
        "A_plus"
      ],
      "metadata": {
        "colab": {
          "base_uri": "https://localhost:8080/"
        },
        "id": "04HB2GzSgeF2",
        "outputId": "9235bd01-edaa-4104-f63d-dc9b5363d8ce"
      },
      "execution_count": 55,
      "outputs": [
        {
          "output_type": "execute_result",
          "data": {
            "text/plain": [
              "array([[-0.11290323,  0.17741935, -0.06451613],\n",
              "       [-0.37096774, -0.27419355, -0.35483871]])"
            ]
          },
          "metadata": {},
          "execution_count": 55
        }
      ]
    },
    {
      "cell_type": "code",
      "source": [
        "res =   A_plus @ y\n",
        "res"
      ],
      "metadata": {
        "colab": {
          "base_uri": "https://localhost:8080/"
        },
        "id": "AK-S5OyPghhA",
        "outputId": "48347ca1-26be-4ac9-9776-61e3d911c97d"
      },
      "execution_count": 59,
      "outputs": [
        {
          "output_type": "execute_result",
          "data": {
            "text/plain": [
              "array([[-1.06451613],\n",
              "       [ 3.64516129]])"
            ]
          },
          "metadata": {},
          "execution_count": 59
        }
      ]
    },
    {
      "cell_type": "code",
      "source": [
        "plt.plot(x1, x2_1)\n",
        "plt.plot(x1, x2_2)\n",
        "plt.plot(x1, x2_3)\n",
        "plt.xlim(-2., 1)\n",
        "plt.ylim(1, 5)\n",
        "\n",
        "plt.scatter(res[0], res[1])\n",
        "\n",
        "plt.show()"
      ],
      "metadata": {
        "colab": {
          "base_uri": "https://localhost:8080/",
          "height": 269
        },
        "id": "b2EGhGiPgtLI",
        "outputId": "f6f2cb58-62f2-4b5e-9c3f-4d23bfb399c3"
      },
      "execution_count": 60,
      "outputs": [
        {
          "output_type": "display_data",
          "data": {
            "text/plain": [
              "<Figure size 432x288 with 1 Axes>"
            ],
            "image/png": "[encoded data removed]"
          },
          "metadata": {
            "needs_background": "light"
          }
        }
      ]
    },
    {
      "cell_type": "code",
      "source": [
        ""
      ],
      "metadata": {
        "id": "gfyOudTGg6Z8"
      },
      "execution_count": null,
      "outputs": []
    }
  ]
}