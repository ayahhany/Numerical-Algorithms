{
  "nbformat": 4,
  "nbformat_minor": 0,
  "metadata": {
    "colab": {
      "name": "Gauss-Seidel Method.ipynb",
      "provenance": []
    },
    "kernelspec": {
      "name": "python3",
      "display_name": "Python 3"
    },
    "language_info": {
      "name": "python"
    }
  },
  "cells": [
    {
      "cell_type": "markdown",
      "source": [
        "### Apply the Gauss-Seidel method to solve\n",
        "- 𝟓𝒙𝟏−𝟐𝒙𝟐+𝟑𝒙𝟑=−𝟏, −𝟑𝒙𝟏+𝟗𝒙𝟐+𝒙𝟑=𝟐, 𝟐𝒙𝟏−𝒙𝟐−𝟕𝒙𝟑=𝟑\n",
        "- Solve once without vectorization then use vectorize implementation.\n",
        "- Check for convergance.\n",
        "- Use different tolerence and see the difference between the two methods. e.g. tol: 0.01,0.001,0.0001 ... etc."
      ],
      "metadata": {
        "id": "c7VUP44iulpW"
      }
    },
    {
      "cell_type": "code",
      "execution_count": 1,
      "metadata": {
        "id": "pePqFLSbuA4f"
      },
      "outputs": [],
      "source": [
        "import numpy as np\n",
        "from scipy.linalg import lu"
      ]
    },
    {
      "cell_type": "code",
      "source": [
        "#sufficient but not necessary\n",
        "def dominant_matrix(A):\n",
        "  diagonal = []\n",
        "  off_diagonal = []\n",
        "  for i in range(A.shape[0]):\n",
        "    diagonal.append(int(abs(A[i][i])))\n",
        "    off_diagonal.append(int(sum(abs(A[i])) - abs(A[i][i])))\n",
        "  counter = 0\n",
        "  for i in range(len(diagonal)):\n",
        "    if (diagonal[i] <=  off_diagonal[i]):\n",
        "      counter +=1\n",
        "  if counter == 0:\n",
        "    state = \"matrix is strictly diagonally dominant\"\n",
        "  elif counter == len(diagonal):\n",
        "    state = \"matrix is not  dominant\"\n",
        "  else:\n",
        "    state = \"matrix is diagonally dominant\"\n",
        "  return diagonal, off_diagonal, state"
      ],
      "metadata": {
        "id": "APYB4YTHutMJ"
      },
      "execution_count": 2,
      "outputs": []
    },
    {
      "cell_type": "code",
      "source": [
        "#Not vectorized\n",
        "def gauss_seidel(A,y, epsilon):\n",
        "  # 1. get values of x\n",
        "  for i in range(A.shape[0]):\n",
        "    y[i] = y[i] / A[i][i]\n",
        "    A[i] = A[i] / A[i][i]\n",
        "    A[i][i] = 0\n",
        "  #2. assume x = [0,0,0]\n",
        "  x = np.zeros(A.shape[1]).reshape(-1,1)\n",
        "  #3. get values of x till convergence\n",
        "  print(f\"Iteration results with epsilon = {epsilon}\")\n",
        "  print(\"k \\tx1 \\tx2 \\tx3\")\n",
        "  for k in range(20):\n",
        "    x_prev = np.copy(x)\n",
        "    for i in range(A.shape[0]):\n",
        "        x[i] = (np.dot(-1* A[i] ,x)) + y[i]\n",
        "\n",
        "    print(f\"{k+1} \\t{round(x[0][0],4 )} \\t{round(x[1][0],4 )} \\t{round(x[2][0],4 )}\")\n",
        "    if np.linalg.norm(x-x_prev) < epsilon:\n",
        "      print(\"Converged!\")\n",
        "      break"
      ],
      "metadata": {
        "id": "pCWgFymGuzR5"
      },
      "execution_count": 93,
      "outputs": []
    },
    {
      "cell_type": "code",
      "source": [
        "A = np.array([[5, -2, 3],\n",
        "     [-3, 9, 1],\n",
        "     [2, -1, -7]]).astype('float64')\n",
        "y = np.array([[-1], [2], [3]]).astype('float64')\n",
        "diagonal, off_diagonal, state = dominant_matrix(A)\n",
        "print(f\"diagonal: {diagonal}\")\n",
        "print(f\"off diagonal: {off_diagonal}\")\n",
        "print(state)"
      ],
      "metadata": {
        "colab": {
          "base_uri": "https://localhost:8080/"
        },
        "id": "yjN7ftc0x7SU",
        "outputId": "d9c00f48-9a2d-4229-fda2-83159d856645"
      },
      "execution_count": 94,
      "outputs": [
        {
          "output_type": "stream",
          "name": "stdout",
          "text": [
            "diagonal: [5, 9, 7]\n",
            "off diagonal: [5, 4, 3]\n",
            "matrix is diagonally dominant\n"
          ]
        }
      ]
    },
    {
      "cell_type": "code",
      "source": [
        "gauss_seidel(A,y, 0.00001)"
      ],
      "metadata": {
        "colab": {
          "base_uri": "https://localhost:8080/"
        },
        "id": "EZwpUub8yrCo",
        "outputId": "fb7f9200-6199-450b-ec9f-09a31ac67630"
      },
      "execution_count": 95,
      "outputs": [
        {
          "output_type": "stream",
          "name": "stdout",
          "text": [
            "Iteration results with epsilon = 1e-05\n",
            "k \tx1 \tx2 \tx3\n",
            "1 \t-0.2 \t0.1556 \t-0.5079\n",
            "2 \t0.167 \t0.3343 \t-0.4286\n",
            "3 \t0.1909 \t0.3335 \t-0.4217\n",
            "4 \t0.1864 \t0.3312 \t-0.4226\n",
            "5 \t0.1861 \t0.3312 \t-0.4227\n",
            "6 \t0.1861 \t0.3312 \t-0.4227\n",
            "7 \t0.1861 \t0.3312 \t-0.4227\n",
            "Converged!\n"
          ]
        }
      ]
    },
    {
      "cell_type": "code",
      "source": [
        "# vectorized\n",
        "def gauss_seidel_vectorized(A,y, epsilon):\n",
        "  U = np.triu(A,1)\n",
        "  L = np.tril(A,-1)\n",
        "  D = np.diag(np.diag(A))\n",
        "\n",
        "  T = np.linalg.inv((D+L)) @ (-1*U)\n",
        "  c = np.linalg.inv((D+L)) @ y\n",
        "  x = np.zeros(A.shape[1]).reshape(-1,1)\n",
        "\n",
        "  # spectral radius  \n",
        "  print(\"spectral radius:\", np.max(np.abs((np.linalg.eig(T)[0]))))\n",
        "\n",
        "  print(f\"Iteration results with epsilon = {epsilon}\")\n",
        "  print(\"k \\tx1 \\tx2 \\tx3\")\n",
        "  for k in range(20):\n",
        "    x_prev = x\n",
        "    x = T @ x_prev + c\n",
        "\n",
        "    print(f\"{k+1} \\t{round(x[0][0],4 )} \\t{round(x[1][0],4 )} \\t{round(x[2][0],4 )}\")\n",
        "    if np.linalg.norm(x-x_prev) < epsilon:\n",
        "      print(\"Converged!\")\n",
        "      break"
      ],
      "metadata": {
        "id": "ohD1mcdKyw4g"
      },
      "execution_count": 100,
      "outputs": []
    },
    {
      "cell_type": "code",
      "source": [
        "A = np.array([[5, -2, 3],\n",
        "     [-3, 9, 1],\n",
        "     [2, -1, -7]]).astype('float64')\n",
        "y = np.array([[-1], [2], [3]]).astype('float64')\n",
        "gauss_seidel_vectorized(A,y ,0.00001)"
      ],
      "metadata": {
        "colab": {
          "base_uri": "https://localhost:8080/"
        },
        "id": "9d1Q-alW5GLk",
        "outputId": "7c3886cf-82ce-496e-b148-018aa1c88edc"
      },
      "execution_count": 101,
      "outputs": [
        {
          "output_type": "stream",
          "name": "stdout",
          "text": [
            "spectral radius: 0.11268723396380219\n",
            "Iteration results with epsilon = 1e-05\n",
            "k \tx1 \tx2 \tx3\n",
            "1 \t-0.2 \t0.1556 \t-0.5079\n",
            "2 \t0.167 \t0.3343 \t-0.4286\n",
            "3 \t0.1909 \t0.3335 \t-0.4217\n",
            "4 \t0.1864 \t0.3312 \t-0.4226\n",
            "5 \t0.1861 \t0.3312 \t-0.4227\n",
            "6 \t0.1861 \t0.3312 \t-0.4227\n",
            "7 \t0.1861 \t0.3312 \t-0.4227\n",
            "Converged!\n"
          ]
        }
      ]
    },
    {
      "cell_type": "markdown",
      "source": [
        "### Use np.linalg.solve() to solve the previous system and compare the results."
      ],
      "metadata": {
        "id": "bO-zAVtg5mGv"
      }
    },
    {
      "cell_type": "code",
      "source": [
        "np.linalg.solve(A, y)"
      ],
      "metadata": {
        "colab": {
          "base_uri": "https://localhost:8080/"
        },
        "id": "ALZbPRo45JJu",
        "outputId": "10e224f3-fa51-41d1-cef5-7625fda317fe"
      },
      "execution_count": 102,
      "outputs": [
        {
          "output_type": "execute_result",
          "data": {
            "text/plain": [
              "array([[ 0.18611987],\n",
              "       [ 0.33123028],\n",
              "       [-0.42271293]])"
            ]
          },
          "metadata": {},
          "execution_count": 102
        }
      ]
    },
    {
      "cell_type": "code",
      "source": [
        ""
      ],
      "metadata": {
        "id": "0uJDbITW5oF9"
      },
      "execution_count": null,
      "outputs": []
    }
  ]
}