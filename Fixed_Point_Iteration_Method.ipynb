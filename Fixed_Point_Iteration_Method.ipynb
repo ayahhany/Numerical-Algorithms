{
  "nbformat": 4,
  "nbformat_minor": 0,
  "metadata": {
    "colab": {
      "name": "Fixed Point Iteration Method.ipynb",
      "provenance": []
    },
    "kernelspec": {
      "name": "python3",
      "display_name": "Python 3"
    },
    "language_info": {
      "name": "python"
    }
  },
  "cells": [
    {
      "cell_type": "markdown",
      "source": [
        "## Fixed Point Iteration Method\n",
        "- Implement the <b>Newton's method</b> as a function and solve the following equations:\n",
        "    - $f(x) = x^2 - x - 1 = 0$\n",
        "    - $𝒇(𝒙)=𝒙−𝒔𝒊𝒏(𝒙)−𝟎.𝟓$\n",
        "- Draw the functions and check out the roots.\n",
        "- Draw g(x).\n",
        "- Try your function with different initialization and check out the results.."
      ],
      "metadata": {
        "id": "5LEWyHLWoGj_"
      }
    },
    {
      "cell_type": "code",
      "execution_count": 1,
      "metadata": {
        "id": "z8Hq3mW5oFeV"
      },
      "outputs": [],
      "source": [
        "import numpy as np\n",
        "import matplotlib.pyplot as plt\n",
        "%matplotlib inline"
      ]
    },
    {
      "cell_type": "code",
      "source": [
        "! pip install prettytable "
      ],
      "metadata": {
        "colab": {
          "base_uri": "https://localhost:8080/"
        },
        "id": "s_dvKIdqoOgn",
        "outputId": "90c2e792-6136-4964-a21f-643d32c70f20"
      },
      "execution_count": 2,
      "outputs": [
        {
          "output_type": "stream",
          "name": "stdout",
          "text": [
            "Looking in indexes: https://pypi.org/simple, https://us-python.pkg.dev/colab-wheels/public/simple/\n",
            "Requirement already satisfied: prettytable in /usr/local/lib/python3.7/dist-packages (3.3.0)\n",
            "Requirement already satisfied: importlib-metadata in /usr/local/lib/python3.7/dist-packages (from prettytable) (4.11.4)\n",
            "Requirement already satisfied: wcwidth in /usr/local/lib/python3.7/dist-packages (from prettytable) (0.2.5)\n",
            "Requirement already satisfied: typing-extensions>=3.6.4 in /usr/local/lib/python3.7/dist-packages (from importlib-metadata->prettytable) (4.2.0)\n",
            "Requirement already satisfied: zipp>=0.5 in /usr/local/lib/python3.7/dist-packages (from importlib-metadata->prettytable) (3.8.0)\n"
          ]
        }
      ]
    },
    {
      "cell_type": "code",
      "source": [
        "x1 = np.linspace(-5, 5, 1000)\n",
        "y = (x1**2)-x1-1\n",
        "plt.plot(x1,y)\n",
        "plt.grid(True)\n",
        "plt.show()\n",
        "y = x1-np.sin(x1) -0.5\n",
        "plt.plot(x1,y)\n",
        "plt.grid(True)\n",
        "plt.show()"
      ],
      "metadata": {
        "colab": {
          "base_uri": "https://localhost:8080/",
          "height": 517
        },
        "id": "Fes8AP_qoO4C",
        "outputId": "8ce6c7f9-56ef-4c60-d0d7-6a3ba6b53b2f"
      },
      "execution_count": 8,
      "outputs": [
        {
          "output_type": "display_data",
          "data": {
            "text/plain": [
              "<Figure size 432x288 with 1 Axes>"
            ],
            "image/png": "[encoded data removed]"
          },
          "metadata": {
            "needs_background": "light"
          }
        },
        {
          "output_type": "display_data",
          "data": {
            "text/plain": [
              "<Figure size 432x288 with 1 Axes>"
            ],
            "image/png": "[encoded data removed]"
          },
          "metadata": {
            "needs_background": "light"
          }
        }
      ]
    },
    {
      "cell_type": "code",
      "source": [
        "from prettytable import PrettyTable\n",
        "## first equation : x^2 - x - 1 = 0$\n",
        "## f'(x) =  2x -1\n",
        "table = PrettyTable([\"Iter\", \"Pn\", \"Pn+1\", \"|Pn+1 - Pn|\"])\n",
        "k = 1\n",
        "x= 1\n",
        "while(1):\n",
        "  gxk = x**2 - x -1\n",
        "  gxk1 = 2*x-1\n",
        "  xnew = x - (gxk/gxk1)\n",
        "  table.add_row([k, x, gxk, xnew])\n",
        "  if(abs(x-xnew)<0.00001 or k==100): break\n",
        "  x=xnew\n",
        "  k=k+1\n",
        "print(table)\n",
        "print('r=',xnew)\n",
        "print('f(r)=',xnew**2 - xnew -1)\n"
      ],
      "metadata": {
        "colab": {
          "base_uri": "https://localhost:8080/"
        },
        "id": "_miIKfdsoUbI",
        "outputId": "7b4980bf-8b60-4c8a-f067-43974d0284ef"
      },
      "execution_count": 9,
      "outputs": [
        {
          "output_type": "stream",
          "name": "stdout",
          "text": [
            "+------+--------------------+------------------------+--------------------+\n",
            "| Iter |         Pn         |          Pn+1          |    |Pn+1 - Pn|     |\n",
            "+------+--------------------+------------------------+--------------------+\n",
            "|  1   |         1          |           -1           |        2.0         |\n",
            "|  2   |        2.0         |          1.0           | 1.6666666666666667 |\n",
            "|  3   | 1.6666666666666667 |  0.11111111111111138   | 1.619047619047619  |\n",
            "|  4   | 1.619047619047619  | 0.0022675736961450532  | 1.618034447821682  |\n",
            "|  5   | 1.618034447821682  | 1.0265159333666674e-06 | 1.618033988749989  |\n",
            "+------+--------------------+------------------------+--------------------+\n",
            "r= 1.618033988749989\n",
            "f(r)= 2.1049828546892968e-13\n"
          ]
        }
      ]
    },
    {
      "cell_type": "code",
      "source": [
        "## second equation : 𝒙−𝒔𝒊𝒏(𝒙)−𝟎.𝟓\n",
        "## f'(x) =  1-cos(x)\n",
        "table = PrettyTable([\"Iter\", \"Pn\", \"Pn+1\", \"|Pn+1 - Pn|\"])\n",
        "k = 1\n",
        "x= 1\n",
        "while(1):\n",
        "  gxk = x-np.sin(x)-0.5\n",
        "  gxk1 = 1-np.cos(x)\n",
        "  xnew = x - (gxk/gxk1)\n",
        "  table.add_row([k, x, gxk, xnew])\n",
        "  if(abs(x-xnew)<0.00001 or k==100): break\n",
        "  x=xnew\n",
        "  k=k+1\n",
        "print(table)\n",
        "print('r=',xnew)\n",
        "print('f(r)=',xnew-np.sin(xnew)-0.5)"
      ],
      "metadata": {
        "colab": {
          "base_uri": "https://localhost:8080/"
        },
        "id": "D0yKLkiYpPu6",
        "outputId": "2d275536-f329-451b-d081-6cef52cb36aa"
      },
      "execution_count": 10,
      "outputs": [
        {
          "output_type": "stream",
          "name": "stdout",
          "text": [
            "+------+--------------------+------------------------+--------------------+\n",
            "| Iter |         Pn         |          Pn+1          |    |Pn+1 - Pn|     |\n",
            "+------+--------------------+------------------------+--------------------+\n",
            "|  1   |         1          |  -0.3414709848078965   | 1.7428163968774413 |\n",
            "|  2   | 1.7428163968774413 |   0.2575754008661757   | 1.522886966091886  |\n",
            "|  3   | 1.522886966091886  |  0.024034400012103663  | 1.4976436369181578 |\n",
            "|  4   | 1.4976436369181578 | 0.00031810195810511033 | 1.4973004524799622 |\n",
            "|  5   | 1.4973004524799622 | 5.872979302878889e-08  | 1.4973003890958945 |\n",
            "+------+--------------------+------------------------+--------------------+\n",
            "r= 1.4973003890958945\n",
            "f(r)= 1.9984014443252818e-15\n"
          ]
        }
      ]
    },
    {
      "cell_type": "code",
      "source": [
        ""
      ],
      "metadata": {
        "id": "X5X4nZ3GpTW_"
      },
      "execution_count": null,
      "outputs": []
    }
  ]
}